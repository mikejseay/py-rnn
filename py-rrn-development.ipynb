{
 "cells": [
  {
   "cell_type": "code",
   "execution_count": 1,
   "metadata": {
    "collapsed": true
   },
   "outputs": [],
   "source": [
    "import importlib\n",
    "\n",
    "import numpy as np\n",
    "from scipy.sparse import csr_matrix\n",
    "from scipy.stats import norm\n",
    "\n",
    "from matplotlib import pyplot as plt\n",
    "%matplotlib tk\n",
    "\n",
    "import network as N"
   ]
  },
  {
   "cell_type": "code",
   "execution_count": 2,
   "metadata": {
    "collapsed": false
   },
   "outputs": [
    {
     "data": {
      "text/plain": [
       "<module 'network' from '/Users/michaelseay/Code/py-rrn/network.py'>"
      ]
     },
     "execution_count": 2,
     "metadata": {},
     "output_type": "execute_result"
    }
   ],
   "source": [
    "importlib.reload(N)"
   ]
  },
  {
   "cell_type": "code",
   "execution_count": 3,
   "metadata": {
    "collapsed": true
   },
   "outputs": [],
   "source": [
    "network_params = {'n_units': 800,\n",
    "                 'p_plastic': 0.6,\n",
    "                 'p_connect': 0.1,\n",
    "                 'syn_strength': 1.5,\n",
    "                 'tau_ms': 10,\n",
    "                 'sigmoid': np.tanh,\n",
    "                 'noise_amp': 0.001}\n",
    "\n",
    "input_params = {'n_units': 1,\n",
    "                'value': 5,\n",
    "                'start_ms': 200,\n",
    "                'duration_ms': 50}\n",
    "\n",
    "output_params = {'n_units': 1,\n",
    "                 'value': 1,\n",
    "                'center_ms': 1250,\n",
    "                'width_ms': 30,\n",
    "                'baseline_val': 0.2}\n",
    "\n",
    "trial_params = {'length_ms': 1000,\n",
    "                'spacing': 2,\n",
    "                'time_step': 1,\n",
    "                'start_train_ms': 250,\n",
    "                'end_train_ms': 1400,}\n",
    "\n",
    "train_params = {'n_trials_recurrent': 20,\n",
    "                'n_trials_readout': 10,\n",
    "                'n_trials_test': 10}"
   ]
  },
  {
   "cell_type": "code",
   "execution_count": 4,
   "metadata": {
    "collapsed": true
   },
   "outputs": [],
   "source": [
    "Net = N.Network(**network_params)\n",
    "In = N.Input(**input_params)\n",
    "Out = N.Output(**output_params)\n",
    "Tryal = N.Trial(**trial_params)\n",
    "Train = N.Trainer(Net, In, Out, Tryal, **train_params)"
   ]
  },
  {
   "cell_type": "code",
   "execution_count": 5,
   "metadata": {
    "collapsed": true
   },
   "outputs": [],
   "source": [
    "## connectivity matrices\n",
    "\n",
    "# \"generator\" network recurrent weight matrix (WXX)\n",
    "# indices are define as WXX[postsyn, presyn]\n",
    "\n",
    "# logical mask for non-zero connections\n",
    "WXX_mask = np.random.rand(Net.n_units, Net.n_units)\n",
    "WXX_mask[WXX_mask <= Net.p_connect] = 1\n",
    "WXX_mask[WXX_mask < 1] = 0\n",
    "\n",
    "# connection weights\n",
    "WXX_vals = np.random.normal(scale=Net.scale_recurr, size=(Net.n_units, Net.n_units))\n",
    "\n",
    "# create non-sparse version of WXX and set self-connections (diagonal elements) to 0\n",
    "WXX_nonsparse = WXX_vals * WXX_mask\n",
    "WXX_nonsparse[np.diag_indices_from(WXX_nonsparse)] = 0\n",
    "\n",
    "# convert to be sparse\n",
    "WXX = csr_matrix(WXX_nonsparse)\n",
    "\n",
    "# make a copy\n",
    "WXX_ini = WXX.copy()\n",
    "\n",
    "# input => generator weights\n",
    "WInputX = np.random.normal(scale=1, size=(Net.n_units, In.n_units))\n",
    "\n",
    "# generator weights => output\n",
    "WXOut = np.random.normal(scale=1/np.sqrt(Net.n_units), size=(Out.n_units, Net.n_units))\n",
    "\n",
    "# make a copy\n",
    "WXOut_ini = WXOut.copy()"
   ]
  },
  {
   "cell_type": "code",
   "execution_count": 6,
   "metadata": {
    "collapsed": false
   },
   "outputs": [
    {
     "name": "stdout",
     "output_type": "stream",
     "text": [
      "<class 'scipy.sparse.csr.csr_matrix'> (800, 800) -0.684088636613 0.699169817345\n",
      "<class 'numpy.ndarray'> (800, 1) -3.31463468482 2.7316477414\n",
      "<class 'numpy.ndarray'> (1, 800) -0.100152488589 0.0990310082078\n"
     ]
    }
   ],
   "source": [
    "# checks\n",
    "\n",
    "ck_mats = (WXX, WInputX, WXOut)\n",
    "\n",
    "for cm in ck_mats:\n",
    "    print(type(cm), cm.shape, np.min(cm), np.max(cm))"
   ]
  },
  {
   "cell_type": "code",
   "execution_count": 7,
   "metadata": {
    "collapsed": false
   },
   "outputs": [],
   "source": [
    "## input time series\n",
    "\n",
    "# designed to be a square wave pulse\n",
    "\n",
    "# startpulse_idx = int(np.round(In.start_ms / Tryal.time_step) - 1)\n",
    "startpulse_idx = int(np.round(In.start_ms / Tryal.time_step))\n",
    "pulsedur_samps = int(np.round(In.duration_ms / Tryal.time_step))\n",
    "\n",
    "input_series = np.zeros((In.n_units, Tryal.n_steps))\n",
    "input_series[0, startpulse_idx:startpulse_idx + pulsedur_samps - 1] = In.value"
   ]
  },
  {
   "cell_type": "code",
   "execution_count": 8,
   "metadata": {
    "collapsed": false
   },
   "outputs": [
    {
     "name": "stdout",
     "output_type": "stream",
     "text": [
      "(1, 1600)\n"
     ]
    },
    {
     "data": {
      "text/plain": [
       "[<matplotlib.lines.Line2D at 0x10ebdd2e8>]"
      ]
     },
     "execution_count": 8,
     "metadata": {},
     "output_type": "execute_result"
    }
   ],
   "source": [
    "# check: plot input pattern\n",
    "\n",
    "print(input_series.shape)\n",
    "\n",
    "f, ax = plt.subplots()\n",
    "ax.plot(Tryal.time_ms, input_series.T)"
   ]
  },
  {
   "cell_type": "code",
   "execution_count": 9,
   "metadata": {
    "collapsed": true
   },
   "outputs": [],
   "source": [
    "## output time series\n",
    "\n",
    "# designed to be a signal at a baseline level plus a normal distribution in time with pre-defined mean and sd\n",
    "\n",
    "bell = norm.pdf(Tryal.time_ms, Out.center_ms, Out.width_ms)\n",
    "bell /= np.fabs(np.max(bell))  # by the way, this is a fast way to normalize a vector to 1\n",
    "output_series = bell * (Out.value - Out.baseline_val) + Out.baseline_val"
   ]
  },
  {
   "cell_type": "code",
   "execution_count": 10,
   "metadata": {
    "collapsed": false
   },
   "outputs": [
    {
     "name": "stdout",
     "output_type": "stream",
     "text": [
      "(1600,)\n"
     ]
    },
    {
     "data": {
      "text/plain": [
       "[<matplotlib.lines.Line2D at 0x117a0ab70>]"
      ]
     },
     "execution_count": 10,
     "metadata": {},
     "output_type": "execute_result"
    }
   ],
   "source": [
    "# check: plot output pattern\n",
    "\n",
    "print(output_series.shape)\n",
    "\n",
    "f, ax = plt.subplots()\n",
    "ax.plot(Tryal.time_ms, output_series.T)"
   ]
  },
  {
   "cell_type": "code",
   "execution_count": null,
   "metadata": {
    "collapsed": true
   },
   "outputs": [],
   "source": [
    "start_train_n = np.round(start_train/Tryal.time_step)\n",
    "end_train_n = np.round(end_train/Tryal.time_step)\n"
   ]
  },
  {
   "cell_type": "code",
   "execution_count": 35,
   "metadata": {
    "collapsed": false
   },
   "outputs": [
    {
     "data": {
      "text/plain": [
       "0.0"
      ]
     },
     "execution_count": 35,
     "metadata": {},
     "output_type": "execute_result"
    }
   ],
   "source": [
    "WXX_sparse[0, 0]"
   ]
  },
  {
   "cell_type": "code",
   "execution_count": null,
   "metadata": {
    "collapsed": true
   },
   "outputs": [],
   "source": [
    "# print(WXX.shape)\n",
    "# print(np.min(WXX))\n",
    "# print(np.max(WXX))"
   ]
  }
 ],
 "metadata": {
  "anaconda-cloud": {},
  "kernelspec": {
   "display_name": "Python [conda root]",
   "language": "python",
   "name": "conda-root-py"
  },
  "language_info": {
   "codemirror_mode": {
    "name": "ipython",
    "version": 3
   },
   "file_extension": ".py",
   "mimetype": "text/x-python",
   "name": "python",
   "nbconvert_exporter": "python",
   "pygments_lexer": "ipython3",
   "version": "3.5.2"
  }
 },
 "nbformat": 4,
 "nbformat_minor": 1
}
